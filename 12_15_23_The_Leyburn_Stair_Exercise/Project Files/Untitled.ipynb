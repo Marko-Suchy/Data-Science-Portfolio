{
 "cells": [
  {
   "cell_type": "code",
   "execution_count": 1,
   "id": "005dd812",
   "metadata": {},
   "outputs": [],
   "source": [
    "import statsmodels.api as sm\n",
    "from statsmodels.formula.api import ols\n",
    "import numpy as np\n",
    "import pandas as pd\n"
   ]
  },
  {
   "cell_type": "code",
   "execution_count": 11,
   "id": "2a9a6eca",
   "metadata": {},
   "outputs": [],
   "source": [
    "df = pd.DataFrame({\"Sex\" : [\"M\", 'M', 'M', 'F', 'F', 'F', 'F', 'F', 'F'],\n",
    "           \"MAP before LSE\" : [92, 80.66666667, 78.33333333, 80, 78.66666667, 88.66666667, 82.66666667, 62.33333333, 81.66666667],\n",
    "           \"MAP after LSE\" : [102.66, 96.33333333, 87.66666667, 102.3333333, 93, 123.6666667, 106, 70.66666667, 109],\n",
    "            \"Change_in_MAP\" : [10.66666667, 15.66666667, 9.333333333, 22.33333333, 14.33333333, 35, 23.33333333, 8.333333333, 27.33333333]\n",
    "                  })\n",
    "\n"
   ]
  },
  {
   "cell_type": "code",
   "execution_count": 12,
   "id": "b6b928bd",
   "metadata": {},
   "outputs": [
    {
     "name": "stdout",
     "output_type": "stream",
     "text": [
      "  Sex  MAP before LSE  MAP after LSE  Change_in_MAP\n",
      "0   M       92.000000     102.660000      10.666667\n",
      "1   M       80.666667      96.333333      15.666667\n",
      "2   M       78.333333      87.666667       9.333333\n",
      "3   F       80.000000     102.333333      22.333333\n",
      "4   F       78.666667      93.000000      14.333333\n",
      "5   F       88.666667     123.666667      35.000000\n",
      "6   F       82.666667     106.000000      23.333333\n",
      "7   F       62.333333      70.666667       8.333333\n",
      "8   F       81.666667     109.000000      27.333333\n"
     ]
    }
   ],
   "source": [
    "print(df)"
   ]
  },
  {
   "cell_type": "code",
   "execution_count": 16,
   "id": "61f22ecb",
   "metadata": {},
   "outputs": [
    {
     "data": {
      "text/html": [
       "<div>\n",
       "<style scoped>\n",
       "    .dataframe tbody tr th:only-of-type {\n",
       "        vertical-align: middle;\n",
       "    }\n",
       "\n",
       "    .dataframe tbody tr th {\n",
       "        vertical-align: top;\n",
       "    }\n",
       "\n",
       "    .dataframe thead th {\n",
       "        text-align: right;\n",
       "    }\n",
       "</style>\n",
       "<table border=\"1\" class=\"dataframe\">\n",
       "  <thead>\n",
       "    <tr style=\"text-align: right;\">\n",
       "      <th></th>\n",
       "      <th>sum_sq</th>\n",
       "      <th>df</th>\n",
       "      <th>F</th>\n",
       "      <th>PR(&gt;F)</th>\n",
       "    </tr>\n",
       "  </thead>\n",
       "  <tbody>\n",
       "    <tr>\n",
       "      <th>C(Sex)</th>\n",
       "      <td>195.580247</td>\n",
       "      <td>1.0</td>\n",
       "      <td>2.932307</td>\n",
       "      <td>0.130553</td>\n",
       "    </tr>\n",
       "    <tr>\n",
       "      <th>Residual</th>\n",
       "      <td>466.888889</td>\n",
       "      <td>7.0</td>\n",
       "      <td>NaN</td>\n",
       "      <td>NaN</td>\n",
       "    </tr>\n",
       "  </tbody>\n",
       "</table>\n",
       "</div>"
      ],
      "text/plain": [
       "              sum_sq   df         F    PR(>F)\n",
       "C(Sex)    195.580247  1.0  2.932307  0.130553\n",
       "Residual  466.888889  7.0       NaN       NaN"
      ]
     },
     "execution_count": 16,
     "metadata": {},
     "output_type": "execute_result"
    }
   ],
   "source": [
    "model = ols('Change_in_MAP ~ C(Sex)', data=df).fit()\n",
    "sm.stats.anova_lm(model, typ=2)"
   ]
  },
  {
   "cell_type": "code",
   "execution_count": null,
   "id": "9570a41a",
   "metadata": {},
   "outputs": [],
   "source": []
  }
 ],
 "metadata": {
  "kernelspec": {
   "display_name": "Python 3 (ipykernel)",
   "language": "python",
   "name": "python3"
  },
  "language_info": {
   "codemirror_mode": {
    "name": "ipython",
    "version": 3
   },
   "file_extension": ".py",
   "mimetype": "text/x-python",
   "name": "python",
   "nbconvert_exporter": "python",
   "pygments_lexer": "ipython3",
   "version": "3.9.13"
  }
 },
 "nbformat": 4,
 "nbformat_minor": 5
}
